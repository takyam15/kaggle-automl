{
 "cells": [
  {
   "cell_type": "code",
   "execution_count": 1,
   "id": "43b778d3-e23e-4c23-8d41-e8acc2fb80f5",
   "metadata": {},
   "outputs": [
    {
     "data": {
      "text/plain": [
       "'1.21.6'"
      ]
     },
     "execution_count": 1,
     "metadata": {},
     "output_type": "execute_result"
    }
   ],
   "source": [
    "import numpy as np\n",
    "\n",
    "np.__version__"
   ]
  },
  {
   "cell_type": "code",
   "execution_count": 2,
   "id": "5be31f98-5187-485d-81e8-b6d9293c222d",
   "metadata": {},
   "outputs": [
    {
     "data": {
      "text/plain": [
       "'1.3.5'"
      ]
     },
     "execution_count": 2,
     "metadata": {},
     "output_type": "execute_result"
    }
   ],
   "source": [
    "import pandas as pd\n",
    "\n",
    "pd.__version__"
   ]
  },
  {
   "cell_type": "code",
   "execution_count": 3,
   "id": "c6496b49-044c-48a6-841e-a8341bb44cee",
   "metadata": {},
   "outputs": [
    {
     "data": {
      "text/plain": [
       "'1.5.4'"
      ]
     },
     "execution_count": 3,
     "metadata": {},
     "output_type": "execute_result"
    }
   ],
   "source": [
    "import scipy as sp\n",
    "\n",
    "sp.__version__"
   ]
  },
  {
   "cell_type": "code",
   "execution_count": 4,
   "id": "1237b206-637d-46fb-ad1a-51ec6fe0a102",
   "metadata": {},
   "outputs": [
    {
     "data": {
      "text/plain": [
       "'0.13.2'"
      ]
     },
     "execution_count": 4,
     "metadata": {},
     "output_type": "execute_result"
    }
   ],
   "source": [
    "import statsmodels\n",
    "\n",
    "statsmodels.__version__"
   ]
  },
  {
   "cell_type": "code",
   "execution_count": 5,
   "id": "5c00c383-24e5-4f1d-b0ab-2ffef67f483d",
   "metadata": {},
   "outputs": [
    {
     "data": {
      "text/plain": [
       "'3.5.3'"
      ]
     },
     "execution_count": 5,
     "metadata": {},
     "output_type": "execute_result"
    }
   ],
   "source": [
    "import matplotlib as mpl\n",
    "\n",
    "mpl.__version__"
   ]
  },
  {
   "cell_type": "code",
   "execution_count": 6,
   "id": "ccf4e64e-23b9-495c-b5a7-efff7d0ea534",
   "metadata": {},
   "outputs": [
    {
     "data": {
      "text/plain": [
       "'0.11.2'"
      ]
     },
     "execution_count": 6,
     "metadata": {},
     "output_type": "execute_result"
    }
   ],
   "source": [
    "import seaborn as sns\n",
    "\n",
    "sns.__version__"
   ]
  },
  {
   "cell_type": "code",
   "execution_count": 7,
   "id": "01274341-877b-4f22-8874-6ec2519abf20",
   "metadata": {},
   "outputs": [
    {
     "data": {
      "text/plain": [
       "'0.23.2'"
      ]
     },
     "execution_count": 7,
     "metadata": {},
     "output_type": "execute_result"
    }
   ],
   "source": [
    "import sklearn\n",
    "\n",
    "sklearn.__version__"
   ]
  },
  {
   "cell_type": "code",
   "execution_count": 8,
   "id": "1f065d25-8550-4324-a494-623d7e807690",
   "metadata": {},
   "outputs": [
    {
     "data": {
      "text/plain": [
       "'1.6.1'"
      ]
     },
     "execution_count": 8,
     "metadata": {},
     "output_type": "execute_result"
    }
   ],
   "source": [
    "import xgboost as xgb\n",
    "\n",
    "xgb.__version__"
   ]
  },
  {
   "cell_type": "code",
   "execution_count": 9,
   "id": "3e9e3c25-6509-4017-b443-1ff072292ce7",
   "metadata": {},
   "outputs": [
    {
     "data": {
      "text/plain": [
       "'3.3.2'"
      ]
     },
     "execution_count": 9,
     "metadata": {},
     "output_type": "execute_result"
    }
   ],
   "source": [
    "import lightgbm as lgb\n",
    "\n",
    "lgb.__version__"
   ]
  },
  {
   "cell_type": "code",
   "execution_count": 10,
   "id": "5dfa79c4-ba85-4c15-8f25-513504f4be63",
   "metadata": {},
   "outputs": [
    {
     "data": {
      "text/plain": [
       "'1.0.6'"
      ]
     },
     "execution_count": 10,
     "metadata": {},
     "output_type": "execute_result"
    }
   ],
   "source": [
    "import catboost\n",
    "\n",
    "catboost.__version__"
   ]
  },
  {
   "cell_type": "code",
   "execution_count": 11,
   "id": "e469602f-deb9-4303-a04b-3ce66970dca6",
   "metadata": {},
   "outputs": [
    {
     "data": {
      "text/plain": [
       "'2.3.7'"
      ]
     },
     "execution_count": 11,
     "metadata": {},
     "output_type": "execute_result"
    }
   ],
   "source": [
    "import spacy\n",
    "\n",
    "spacy.__version__"
   ]
  },
  {
   "cell_type": "code",
   "execution_count": 12,
   "id": "9b367639-5578-4d04-b2f9-275179fb5c6f",
   "metadata": {},
   "outputs": [
    {
     "data": {
      "text/plain": [
       "'2.10.1'"
      ]
     },
     "execution_count": 12,
     "metadata": {},
     "output_type": "execute_result"
    }
   ],
   "source": [
    "import optuna\n",
    "\n",
    "optuna.__version__"
   ]
  },
  {
   "cell_type": "code",
   "execution_count": 13,
   "id": "ecee0423-d1f7-4a2d-b32b-f31d1451cf22",
   "metadata": {},
   "outputs": [
    {
     "data": {
      "text/plain": [
       "'0.2.7'"
      ]
     },
     "execution_count": 13,
     "metadata": {},
     "output_type": "execute_result"
    }
   ],
   "source": [
    "import hyperopt\n",
    "\n",
    "hyperopt.__version__"
   ]
  },
  {
   "cell_type": "code",
   "execution_count": 14,
   "id": "165fd9cd-97d1-43dc-8fe3-333bdf9785dd",
   "metadata": {},
   "outputs": [
    {
     "data": {
      "text/plain": [
       "'1.13.0'"
      ]
     },
     "execution_count": 14,
     "metadata": {},
     "output_type": "execute_result"
    }
   ],
   "source": [
    "import ray\n",
    "\n",
    "ray.__version__"
   ]
  },
  {
   "cell_type": "code",
   "execution_count": 15,
   "id": "00ef231f-59e5-4086-9e46-45723b15e870",
   "metadata": {},
   "outputs": [
    {
     "name": "stderr",
     "output_type": "stream",
     "text": [
      "2022-08-18 13:56:15.208005: W tensorflow/stream_executor/platform/default/dso_loader.cc:64] Could not load dynamic library 'libcudart.so.11.0'; dlerror: libcudart.so.11.0: cannot open shared object file: No such file or directory\n",
      "2022-08-18 13:56:15.208061: I tensorflow/stream_executor/cuda/cudart_stub.cc:29] Ignore above cudart dlerror if you do not have a GPU set up on your machine.\n"
     ]
    },
    {
     "data": {
      "text/plain": [
       "'2.9.1'"
      ]
     },
     "execution_count": 15,
     "metadata": {},
     "output_type": "execute_result"
    }
   ],
   "source": [
    "import tensorflow as tf\n",
    "\n",
    "tf.__version__"
   ]
  },
  {
   "cell_type": "code",
   "execution_count": 16,
   "id": "9b17fc14-cc42-45a7-91f6-62aa1e480aaf",
   "metadata": {},
   "outputs": [
    {
     "data": {
      "text/plain": [
       "'2.9.0'"
      ]
     },
     "execution_count": 16,
     "metadata": {},
     "output_type": "execute_result"
    }
   ],
   "source": [
    "import keras\n",
    "\n",
    "keras.__version__"
   ]
  },
  {
   "cell_type": "code",
   "execution_count": 17,
   "id": "c742aecd-2b50-42f5-82d8-682084ff203c",
   "metadata": {},
   "outputs": [],
   "source": [
    "import stan"
   ]
  },
  {
   "cell_type": "code",
   "execution_count": 18,
   "id": "302f5248-e552-4eae-b06d-42fc5f9996db",
   "metadata": {},
   "outputs": [
    {
     "data": {
      "text/plain": [
       "'0.3.16'"
      ]
     },
     "execution_count": 18,
     "metadata": {},
     "output_type": "execute_result"
    }
   ],
   "source": [
    "import jax\n",
    "\n",
    "jax.__version__"
   ]
  },
  {
   "cell_type": "code",
   "execution_count": 19,
   "id": "9fa549b0-98eb-41af-86e0-73d440fec54b",
   "metadata": {},
   "outputs": [
    {
     "data": {
      "text/plain": [
       "'0.10.0'"
      ]
     },
     "execution_count": 19,
     "metadata": {},
     "output_type": "execute_result"
    }
   ],
   "source": [
    "import numpyro\n",
    "\n",
    "numpyro.__version__"
   ]
  },
  {
   "cell_type": "code",
   "execution_count": 20,
   "id": "cc9f4f45-2f13-4c56-9d11-3b99eccc6d42",
   "metadata": {},
   "outputs": [
    {
     "data": {
      "text/plain": [
       "'0.17.0'"
      ]
     },
     "execution_count": 20,
     "metadata": {},
     "output_type": "execute_result"
    }
   ],
   "source": [
    "import tensorflow_probability as tfp\n",
    "\n",
    "tfp.__version__"
   ]
  },
  {
   "cell_type": "code",
   "execution_count": 21,
   "id": "82637404-d395-44e6-9653-51c21ed2eb63",
   "metadata": {},
   "outputs": [
    {
     "data": {
      "text/plain": [
       "'0.12.1'"
      ]
     },
     "execution_count": 21,
     "metadata": {},
     "output_type": "execute_result"
    }
   ],
   "source": [
    "import arviz as az\n",
    "\n",
    "az.__version__"
   ]
  },
  {
   "cell_type": "code",
   "execution_count": 22,
   "id": "0dd6317e-191b-4701-a677-87391ada322f",
   "metadata": {},
   "outputs": [
    {
     "data": {
      "text/plain": [
       "'2.3.10'"
      ]
     },
     "execution_count": 22,
     "metadata": {},
     "output_type": "execute_result"
    }
   ],
   "source": [
    "import pycaret\n",
    "\n",
    "pycaret.__version__"
   ]
  },
  {
   "cell_type": "code",
   "execution_count": 23,
   "id": "9aab42f2-cc7b-44e6-bc0e-1bff7d375ccd",
   "metadata": {},
   "outputs": [
    {
     "data": {
      "text/plain": [
       "'1.0.19'"
      ]
     },
     "execution_count": 23,
     "metadata": {},
     "output_type": "execute_result"
    }
   ],
   "source": [
    "import autokeras as ak\n",
    "\n",
    "ak.__version__"
   ]
  },
  {
   "cell_type": "code",
   "execution_count": 24,
   "id": "4bf5ffdd-b723-4397-bcb5-4267807e1835",
   "metadata": {},
   "outputs": [
    {
     "data": {
      "text/plain": [
       "'7.7.1'"
      ]
     },
     "execution_count": 24,
     "metadata": {},
     "output_type": "execute_result"
    }
   ],
   "source": [
    "import ipywidgets as widgets\n",
    "\n",
    "widgets.__version__"
   ]
  },
  {
   "cell_type": "code",
   "execution_count": 25,
   "id": "3b5062d4-091a-4a58-a6f9-8cfc1686dcc6",
   "metadata": {},
   "outputs": [],
   "source": [
    "!pip freeze > pip_freeze.txt"
   ]
  }
 ],
 "metadata": {
  "kernelspec": {
   "display_name": "Python 3 (ipykernel)",
   "language": "python",
   "name": "python3"
  },
  "language_info": {
   "codemirror_mode": {
    "name": "ipython",
    "version": 3
   },
   "file_extension": ".py",
   "mimetype": "text/x-python",
   "name": "python",
   "nbconvert_exporter": "python",
   "pygments_lexer": "ipython3",
   "version": "3.7.13"
  }
 },
 "nbformat": 4,
 "nbformat_minor": 5
}
