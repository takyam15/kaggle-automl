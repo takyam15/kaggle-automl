{
 "cells": [
  {
   "cell_type": "code",
   "execution_count": null,
   "id": "608a9aa4-4d55-4896-bc76-c84ccc01c87e",
   "metadata": {},
   "outputs": [],
   "source": [
    "from pycaret import regression\n",
    "\n",
    "from estimator import DataImporter, PycaretEstimator, DataLogger"
   ]
  },
  {
   "cell_type": "code",
   "execution_count": null,
   "id": "76d16103-5bb9-4db6-b03f-dea3e9d64f61",
   "metadata": {},
   "outputs": [],
   "source": [
    "competition_name = ''\n",
    "input_dir = './input/'\n",
    "train_file = 'train.csv'\n",
    "test_file = 'test.csv'\n",
    "sample_submission_file = 'sample_submission.csv'\n",
    "index_col=None"
   ]
  },
  {
   "cell_type": "code",
   "execution_count": null,
   "id": "84fd4d6e-0903-44d4-8e48-1bcd91b16a57",
   "metadata": {},
   "outputs": [],
   "source": [
    "data_importer = DataImporter(index_col=index_col)\n",
    "input_data = data_importer.read()"
   ]
  },
  {
   "cell_type": "code",
   "execution_count": null,
   "id": "5d08386b-3ce7-40a2-8be1-d46b0d8fe35a",
   "metadata": {},
   "outputs": [],
   "source": [
    "reg_01 = PycaretEstimator(\n",
    "    mod=regression, input_data=input_data, session_id=123,\n",
    "    normalize=True,\n",
    "    transformation=True,\n",
    "    combine_rare_levels=True, rare_level_threshold=0.05,\n",
    "    remove_multicollinearity=True, multicollinearity_threshold=0.95\n",
    ")"
   ]
  },
  {
   "cell_type": "code",
   "execution_count": null,
   "id": "b0f88a70-0dc6-4852-899e-efd28d49ba5d",
   "metadata": {},
   "outputs": [],
   "source": [
    "df_submission_01 = reg_01.check_baseline(metric='R2')"
   ]
  },
  {
   "cell_type": "code",
   "execution_count": null,
   "id": "b0b1475a-1a31-40fe-adbc-46ebb4a616fc",
   "metadata": {},
   "outputs": [],
   "source": [
    "df_submission_01.head()"
   ]
  },
  {
   "cell_type": "code",
   "execution_count": null,
   "id": "db43dcd5-62f8-4fb4-8dd7-72f3939f3645",
   "metadata": {},
   "outputs": [],
   "source": [
    "include_index = index_col is not None\n",
    "df_submission_01.to_csv(f'./output/{competition_name}_submit01.csv', index=include_index)"
   ]
  }
 ],
 "metadata": {
  "kernelspec": {
   "display_name": "Python 3 (ipykernel)",
   "language": "python",
   "name": "python3"
  },
  "language_info": {
   "codemirror_mode": {
    "name": "ipython",
    "version": 3
   },
   "file_extension": ".py",
   "mimetype": "text/x-python",
   "name": "python",
   "nbconvert_exporter": "python",
   "pygments_lexer": "ipython3",
   "version": "3.8.13"
  }
 },
 "nbformat": 4,
 "nbformat_minor": 5
}
